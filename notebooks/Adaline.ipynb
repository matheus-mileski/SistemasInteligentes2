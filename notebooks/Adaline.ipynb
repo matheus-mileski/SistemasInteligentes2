{
 "cells": [
  {
   "cell_type": "code",
   "execution_count": 11,
   "id": "f3e608c3-a89c-41e3-820e-d78480b5babf",
   "metadata": {},
   "outputs": [],
   "source": [
    "import numpy as np\n",
    "import pandas as pd\n",
    "%matplotlib inline\n",
    "import matplotlib.pyplot as plt"
   ]
  },
  {
   "cell_type": "code",
   "execution_count": 2,
   "id": "ebff3ffc-ad06-40b6-8ef7-92122fadf078",
   "metadata": {},
   "outputs": [],
   "source": [
    "def phi(v):\n",
    "    if v > 0:\n",
    "        return 1\n",
    "    return 0    "
   ]
  },
  {
   "cell_type": "code",
   "execution_count": 79,
   "id": "bd4ad581-0099-49b5-8c10-4f22878771ff",
   "metadata": {},
   "outputs": [],
   "source": [
    "# Initialize with default values if not provided\n",
    "def Adaline_Online(data, w=None, tol_error=0.001, max_epochs=1000, learning_rate=0.1):\n",
    "    # Split dataset into training samples and expected output\n",
    "    X = np.c_[np.ones(data.shape[0]), data]\n",
    "    y = X[:, X.shape[1] - 1].astype(np.float64)\n",
    "    X = X[:, 1:-1].astype(np.float64)\n",
    "    \n",
    "    # Initialize weights if not provided\n",
    "    if w is None:\n",
    "        w = np.random.rand(X.shape[1])\n",
    "    # Normalize the input features\n",
    "    X = (X - np.mean(X, axis=0)) / np.std(X, axis=0)\n",
    "    # Initialize epoch and error variables\n",
    "    epochs = 0\n",
    "    error = np.zeros(max_epochs)\n",
    "    \n",
    "    while epochs < max_epochs:\n",
    "        # Shuffle the training examples\n",
    "        X_index = np.random.permutation(X.shape[0])\n",
    "        \n",
    "        # Initialize the sum of squared errors for this epoch\n",
    "        sum_squared_error = 0\n",
    "        \n",
    "        for i in X_index:\n",
    "            v = np.dot(np.transpose(w), X[i, :])\n",
    "            y_pred = phi(v)\n",
    "            \n",
    "            w += learning_rate * (y[i] - v) * X[i, :]\n",
    "            \n",
    "        error[epochs] = np.sum((y - np.dot(X, w)) ** 2) / X.shape[0]\n",
    "            \n",
    "        # Increment the epoch counter\n",
    "        epochs += 1\n",
    "    \n",
    "    return w\n"
   ]
  },
  {
   "cell_type": "code",
   "execution_count": 81,
   "id": "4656e61f-4f54-49c6-8c66-711ccc94362c",
   "metadata": {},
   "outputs": [
    {
     "data": {
      "text/plain": [
       "array([0.25284387, 0.25284387])"
      ]
     },
     "execution_count": 81,
     "metadata": {},
     "output_type": "execute_result"
    }
   ],
   "source": [
    "data = {\n",
    "    'x1': [0, 0, 1, 1],\n",
    "    'x2': [0, 1, 0, 1],\n",
    "    'class': [0, 0, 0, 1]\n",
    "}\n",
    "\n",
    "dataset = pd.DataFrame(data)\n",
    "bias = 1\n",
    "W = [bias, 0.5]\n",
    "learning_rate = 0.1\n",
    "\n",
    "Adaline_Online(dataset, W, 1, 1000, learning_rate)"
   ]
  },
  {
   "cell_type": "code",
   "execution_count": null,
   "id": "03e030c0-3b14-44a4-9005-6857240f4c1f",
   "metadata": {},
   "outputs": [],
   "source": []
  },
  {
   "cell_type": "code",
   "execution_count": null,
   "id": "3eb4923e-a8a4-4956-8bdf-5e28daba2631",
   "metadata": {},
   "outputs": [],
   "source": []
  }
 ],
 "metadata": {
  "kernelspec": {
   "display_name": "Python 3 (ipykernel)",
   "language": "python",
   "name": "python3"
  },
  "language_info": {
   "codemirror_mode": {
    "name": "ipython",
    "version": 3
   },
   "file_extension": ".py",
   "mimetype": "text/x-python",
   "name": "python",
   "nbconvert_exporter": "python",
   "pygments_lexer": "ipython3",
   "version": "3.9.13"
  }
 },
 "nbformat": 4,
 "nbformat_minor": 5
}
