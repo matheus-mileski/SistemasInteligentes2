{
 "cells": [
  {
   "cell_type": "code",
   "execution_count": 2,
   "id": "6676a3f3-7fe0-4303-9e64-41b9fcb75bc4",
   "metadata": {},
   "outputs": [],
   "source": [
    "import numpy as np\n",
    "import math"
   ]
  },
  {
   "cell_type": "code",
   "execution_count": 5,
   "id": "709fad0b-8135-4ffd-ae23-3b3f7e90a0e4",
   "metadata": {},
   "outputs": [],
   "source": [
    "class MLP(object):\n",
    "    \"\"\"\n",
    "    Uma rede neural(Perceptron-multilayer) de 3 camadas\n",
    "    \"\"\"\n",
    "    def __init__(self,entrada, oculta, saida, taxaDeAprendizado = 0.1):\n",
    "        \"\"\"\n",
    "        Entrada : número de entradas, de neurônios ocultos e saidas. Podendo também variar a taxa de aprendizado\n",
    "        \"\"\"\n",
    "        self.entrada = entrada\n",
    "        self.oculta = oculta\n",
    "        self.saida = saida\n",
    "        self.taxaDeAprendizado = taxaDeAprendizado\n",
    "\n",
    "\n",
    "    def getTaxaDeAprendizado(self):\n",
    "        return self.taxaDeAprendizado\n",
    "\n",
    "\n",
    "    def setTaxaDeAprendizado(self,taxaDeAprendizado):\n",
    "        self.taxaDeAprendizado = taxaDeAprendizado\n",
    "\n",
    "    \n",
    "    def sinalNeuronio(pesos, bias):\n",
    "        \n",
    "    \n",
    "    def ativacaoSigmoidal(valor):\n",
    "        \"\"\"\n",
    "        Função ativadora Sigmoidal = 1 / (1 + e ^ - valor)\n",
    "        Entrada : Valor a ser aplicado na função\n",
    "        Retorno : Resultado da aplicação\n",
    "        \"\"\"\n",
    "        return 1/(1 + math.exp(-valor))\n",
    "        \n",
    "\n",
    "    def derivadaAtivacaoSigmoidal(valor):\n",
    "        \"\"\"\n",
    "        Derivada da função ativadora Sigmoidal , dSigmoidal / dValor = Sigmoidal *(1 - Sigmoidal)\n",
    "        Entrada : Valor(Resultante da aplicação à sigmoidal) a ser aplicado na função\n",
    "        Retorno : Resultado da aplicação\n",
    "        \"\"\"\n",
    "        sigmoidal = ativacaoSigmoidal(valor)\n",
    "        return sigmoidal * (1 - sigmoidal)\n",
    "\n",
    "    def erroQuadraticoMedio(esperado, valor):\n",
    "        \"\"\"\n",
    "        Calculo do erro\n",
    "        Entrada : O target e o valor deduzido\n",
    "        Retorno : Erro calculado dadas as entradas\n",
    "        \"\"\"\n",
    "        return (esperado - ativacaoSigmoidal(valor)) * derivadaAtivacaoSigmoidal(valor)\n",
    "\n",
    "\n",
    "    def feedForward(self, dados):\n",
    "        \"\"\"\n",
    "        Recebe as entradas e faz a classificação\n",
    "        Entrada : As N entradas(float) definidas no __init__\n",
    "        Retorno : Nenhum\n",
    "        \"\"\"\n",
    "        pass\n",
    "\n",
    "\n",
    "    def backPropagation(self, esperado):\n",
    "        \"\"\"\n",
    "        Pondera as classificações e faz as correções aos pesos\n",
    "        Entrada : Targets(float)\n",
    "        Retorno : Nenhum\n",
    "        \"\"\"\n",
    "        pass\t\n",
    "\n",
    "\n",
    "    def treinamento(self, dados, esperado):\n",
    "        pass"
   ]
  },
  {
   "cell_type": "code",
   "execution_count": 6,
   "id": "f21f2c06-e82a-43be-9cd4-6be513fae3f9",
   "metadata": {},
   "outputs": [],
   "source": [
    "mlp_test = MLP(0,0,0)"
   ]
  },
  {
   "cell_type": "code",
   "execution_count": 8,
   "id": "b8eea249-bd2f-43de-9db1-e9cd16b29e73",
   "metadata": {},
   "outputs": [],
   "source": [
    "mlp_test.setTaxaDeAprendizado(0.3)"
   ]
  },
  {
   "cell_type": "code",
   "execution_count": 9,
   "id": "a026d840-2ca8-48fb-84b3-0213e9178d8a",
   "metadata": {},
   "outputs": [
    {
     "data": {
      "text/plain": [
       "0.3"
      ]
     },
     "execution_count": 9,
     "metadata": {},
     "output_type": "execute_result"
    }
   ],
   "source": [
    "mlp_test.getTaxaDeAprendizado()"
   ]
  },
  {
   "cell_type": "code",
   "execution_count": null,
   "id": "e7eb7511-1fb7-4d6e-8f23-4c79f38fb7d4",
   "metadata": {},
   "outputs": [],
   "source": []
  }
 ],
 "metadata": {
  "kernelspec": {
   "display_name": "Python 3 (ipykernel)",
   "language": "python",
   "name": "python3"
  },
  "language_info": {
   "codemirror_mode": {
    "name": "ipython",
    "version": 3
   },
   "file_extension": ".py",
   "mimetype": "text/x-python",
   "name": "python",
   "nbconvert_exporter": "python",
   "pygments_lexer": "ipython3",
   "version": "3.9.13"
  }
 },
 "nbformat": 4,
 "nbformat_minor": 5
}
